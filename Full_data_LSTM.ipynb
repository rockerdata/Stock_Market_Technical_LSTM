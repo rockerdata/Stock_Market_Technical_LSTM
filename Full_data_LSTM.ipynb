{
 "cells": [
  {
   "cell_type": "code",
   "execution_count": 1,
   "metadata": {},
   "outputs": [
    {
     "name": "stderr",
     "output_type": "stream",
     "text": [
      "Using TensorFlow backend.\n"
     ]
    }
   ],
   "source": [
    "import importlib\n",
    "import indicators as ind\n",
    "import numpy as np\n",
    "import tulipy as ti\n",
    "import pandas as pd\n",
    "import matplotlib.pyplot as plt\n",
    "import seaborn\n",
    "import requests\n",
    "import json\n",
    "from keras.initializers import glorot_normal\n",
    "from keras import regularizers\n",
    "\n",
    "import keras.optimizers                                                                                                                                                                                                                                                            \n",
    "from keras.models import Sequential                                                                                                                                                                                                                                                \n",
    "from keras.layers import Dense,Activation                                                                                                                                                                                                                                          \n",
    "from keras.layers import LSTM \n",
    "\n",
    "from sklearn.model_selection import train_test_split"
   ]
  },
  {
   "cell_type": "code",
   "execution_count": 2,
   "metadata": {},
   "outputs": [],
   "source": [
    "def get_datadf(symbol):\n",
    "    raw_data = requests.get(\"https://query1.finance.yahoo.com/v8/finance/chart/\"+ symbol +\"?period1=1104517800&period2=1507660200&interval=1d\").text\n",
    "    raw_data = json.loads(raw_data)\n",
    "    df = raw_data[u'chart'][u'result'][0][u'indicators'][u'quote'][0]\n",
    "    df['adjclose'] = raw_data[u'chart'][u'result'][0][u'indicators'][u'adjclose'][0][u'adjclose']\n",
    "    df['timestamp'] = raw_data[u'chart'][u'result'][0][u'timestamp']\n",
    "    \n",
    "    data = pd.DataFrame.from_dict(df)\n",
    "    \n",
    "    data = data.dropna()\n",
    "    \n",
    "    data = data[data.volume > 0]\n",
    "    \n",
    "    return data"
   ]
  },
  {
   "cell_type": "code",
   "execution_count": 3,
   "metadata": {},
   "outputs": [],
   "source": [
    "def process_data(stock_data):\n",
    "    stock_data.index = pd.to_datetime(stock_data['timestamp'], unit='s').values\n",
    "    stock_data.drop(['timestamp'], axis=1, inplace=True)\n",
    "\n",
    "    k = stock_data.adjclose / stock_data.close\n",
    "\n",
    "    stock_data.high = stock_data.high * k\n",
    "    stock_data.low = stock_data.low * k\n",
    "    stock_data.open = stock_data.open * k\n",
    "    stock_data.close = stock_data.adjclose\n",
    "    stock_data.volume = pd.to_numeric(stock_data.volume / k)\n",
    "    stock_data.drop(['adjclose'], axis=1, inplace=True)\n",
    "    \n",
    "    return stock_data"
   ]
  },
  {
   "cell_type": "code",
   "execution_count": 4,
   "metadata": {},
   "outputs": [],
   "source": [
    "def get_indicators(stock_data):\n",
    "    adx = ind.get_ADX(stock_data.high.values, stock_data.low.values, stock_data.close.values, 13)\n",
    "    stock_data['adx'] = adx[0]\n",
    "    stock_data['di_plus'] = adx[1]\n",
    "    stock_data['di_min'] = adx[2]\n",
    "    stock_data['aroon_osc'] = ind.get_ArronOSC(stock_data.high.values, stock_data.low.values, 9)\n",
    "    macd = ind.get_MACD(stock_data.close.values, 13,21,9)\n",
    "    stock_data['macd'] = macd[0]\n",
    "    stock_data['macd_signal'] = macd[1]\n",
    "    stock_data['macd_hist'] = macd[2]\n",
    "    stock_data['rsi'] = ind.get_RSI(stock_data.close.values, 9)\n",
    "    stoch_osc = ind.get_StochOsc(stock_data.high.values, stock_data.low.values, stock_data.close.values, 13,4,4)\n",
    "    stock_data['stoch_k'] = stoch_osc[0]\n",
    "    stock_data['stoch_d'] = stoch_osc[1]\n",
    "    bbands = ind.get_BollingerBands(stock_data.close.values, 13,2)\n",
    "    stock_data['bband'] = bbands[0]\n",
    "    stock_data['std_up'] = bbands[1]\n",
    "    stock_data['std_down'] = bbands[2]\n",
    "    stock_data['obv'] = ind.get_OBV(stock_data.close.values, stock_data.volume.values)\n",
    "    stock_data['adl'] = ind.get_ADL(stock_data.high.values, stock_data.low.values, stock_data.close.values, stock_data.volume.values)\n",
    "    stock_data['chaikin'] = ind.get_ChaikinMF(stock_data.close.values, stock_data.low.values, stock_data.high.values, stock_data.volume.values, 13)\n",
    "    kvi = ind.get_KVI(stock_data.high.values, stock_data.low.values, stock_data.close.values, stock_data.volume.values, 9,13)\n",
    "    stock_data['kvi'] = kvi[0]\n",
    "    stock_data['kvi_signal'] = kvi[1]\n",
    "    \n",
    "    stock_data.dropna(axis=1, inplace=True)\n",
    "    \n",
    "    stock_data.loc[:,'target'] = np.zeros(stock_data.shape[0])\n",
    "    stock_data.loc[1:,'target'] = np.where(((stock_data.close[1:].values - stock_data.close[:-1].values)/stock_data.close[:-1]) >= 0.02,1,0)\n",
    "\n",
    "    return stock_data\n",
    "    "
   ]
  },
  {
   "cell_type": "code",
   "execution_count": 5,
   "metadata": {},
   "outputs": [],
   "source": [
    "nifty_all = ['3MINDIA.NS','8KMILES.NS','ABB.NS','ACC.NS','AIAENG.NS','APLAPOLLO.NS','AUBANK.NS','AARTIIND.NS','ABAN.NS','ADANIENT.NS','ADANIPORTS.NS','ADANIPOWER.NS','ADANITRANS.NS','ABFRL.NS','ADVENZYMES.NS','AEGISCHEM.NS','AHLUCONT.NS','AJANTPHARM.NS','AKZOINDIA.NS','APLLTD.NS','ALKEM.NS','ALBK.NS','ALLCARGO.NS','AMARAJABAT.NS','AMBUJACEM.NS','ANDHRABANK.NS','APARINDS.NS','APOLLOHOSP.NS','APOLLOTYRE.NS','ARVIND.NS','ASHOKLEY.NS','ASHOKA.NS','ASIANPAINT.NS','ASTRAZEN.NS','ASTRAL.NS','ATUL.NS','AUROPHARMA.NS','AVANTIFEED.NS','DMART.NS','AXISBANK.NS','BASF.NS','BEML.NS','BFUTILITIE.NS','BGRENERGY.NS','BSE.NS','BAJAJCORP.NS','BAJAJELEC.NS','BAJFINANCE.NS','BAJAJFINSV.NS','BAJAJHIND.NS','BAJAJHLDNG.NS','BALKRISIND.NS','BALLARPUR.NS','BALMLAWRIE.NS','BALRAMCHIN.NS','BANKBARODA.NS','BANKINDIA.NS','BATAINDIA.NS','BERGEPAINT.NS','BEL.NS','BHARATFIN.NS','BHARATFORG.NS','BHEL.NS','BPCL.NS','BHARTIARTL.NS','INFRATEL.NS','BHUSANSTL.NS','BIOCON.NS','BIRLACORPN.NS','BLISSGVS.NS','BLUEDART.NS','BLUESTARCO.NS','BBTC.NS','BOMDYEING.NS','BRFL.NS','BOSCHLTD.NS','BRIGADE.NS','BRITANNIA.NS','CARERATING.NS','CCL.NS','CESC.NS','CGPOWER.NS','CRISIL.NS','CADILAHC.NS','CANFINHOME.NS','CANBK.NS','CAPF.NS','CAPLIPOINT.NS','CARBORUNIV.NS','CASTROLIND.NS','CEATLTD.NS','CENTRALBK.NS','CENTURYPLY.NS','CENTURYTEX.NS','CERA.NS','CHAMBLFERT.NS','CHENNPETRO.NS','CHOLAFIN.NS','CIPLA.NS','CUB.NS','COALINDIA.NS','COFFEEDAY.NS','COLPAL.NS','CONCOR.NS','COROMANDEL.NS','CORPBANK.NS','COX&KINGS.NS','CROMPTON.NS','CUMMINSIND.NS','CYIENT.NS','DBREALTY.NS','DBCORP.NS','DCBBANK.NS','DCMSHRIRAM.NS','DLF.NS','DABUR.NS','DALMIABHA.NS','DEEPAKFERT.NS','DELTACORP.NS','DEN.NS','DENABANK.NS','DHFL.NS','DHANUKA.NS','DBL.NS','DISHTV.NS','DIVISLAB.NS','LALPATHLAB.NS','DRREDDY.NS','DREDGECORP.NS','EIDPARRY.NS','EIHOTEL.NS','EDELWEISS.NS','EICHERMOT.NS','EMAMILTD.NS','ENDURANCE.NS','ENGINERSIN.NS','EQUITAS.NS','EROSMEDIA.NS','ESCORTS.NS','ESSELPACK.NS','EVEREADY.NS','EXIDEIND.NS','FEDERALBNK.NS','FINCABLES.NS','FINPIPE.NS','FSL.NS','FORTIS.NS','FCONSUMER.NS','FLFL.NS','GAIL.NS','GEPIL.NS','GET&D.NS','GHCL.NS','GMRINFRA.NS','GVKPIL.NS','GDL.NS','GATI.NS','GILLETTE.NS','GSKCONS.NS','GLAXO.NS','GLENMARK.NS','GODFRYPHLP.NS','GODREJCP.NS','GODREJIND.NS','GODREJPROP.NS','GRANULES.NS','GESHIP.NS','GREAVESCOT.NS','GREENPLY.NS','GRUH.NS','GUJALKALI.NS','GUJFLUORO.NS','GUJGASLTD.NS','GMDCLTD.NS','GNFC.NS','GPPL.NS','GSFC.NS','GSPL.NS','GULFOILLUB.NS','HCLTECH.NS','HDFCBANK.NS','HSIL.NS','HTMEDIA.NS','HATHWAY.NS','HAVELLS.NS','HEIDELBERG.NS','HERITGFOOD.NS','HEROMOTOCO.NS','HEXAWARE.NS','HFCL.NS','HIMATSEIDE.NS','HINDALCO.NS','HCC.NS','HINDCOPPER.NS','HINDPETRO.NS','HINDUNILVR.NS','HINDZINC.NS','HUDCO.NS','HDFC.NS','HDIL.NS','ITC.NS','ICICIBANK.NS','ICICIPRULI.NS','ICRA.NS','IDBI.NS','IDFCBANK.NS','IDFC.NS','IFBIND.NS','IFCI.NS','IL&FSTRANS.NS','IRB.NS','ITDCEM.NS','ITI.NS','IDEA.NS','IGARASHI.NS','INDIACEM.NS','ITDC.NS','IBULHSGFIN.NS','IBREALEST.NS','IBVENTURES.NS','INDIANB.NS','INDHOTEL.NS','IOC.NS','IOB.NS','ICIL.NS','INDOCO.NS','IGL.NS','INDUSINDBK.NS','INFIBEAM.NS','NAUKRI.NS','INFY.NS','INGERRAND.NS','INOXLEISUR.NS','INOXWIND.NS','INTELLECT.NS','INDIGO.NS','IPCALAB.NS','JBCHEPHARM.NS','JKCEMENT.NS','JKIL.NS','JBFIND.NS','JKLAKSHMI.NS','JKTYRE.NS','JMFINANCIL.NS','JSWENERGY.NS','JSWSTEEL.NS','JAGRAN.NS','JAICORPLTD.NS','JISLJALEQS.NS','JPASSOCIAT.NS','JPPOWER.NS','J&KBANK.NS','JETAIRWAYS.NS','JINDALPOLY.NS','JINDALSAW.NS','JSLHISAR.NS','JSL.NS','JINDALSTEL.NS','JCHAC.NS','JUBLFOOD.NS','JUBILANT.NS','JUSTDIAL.NS','JYOTHYLAB.NS','KPRMILL.NS','KPIT.NS','KRBL.NS','KAJARIACER.NS','KALPATPOWR.NS','KANSAINER.NS','KTKBANK.NS','KARURVYSYA.NS','KSCL.NS','KEC.NS','KESORAMIND.NS','KITEX.NS','KOLTEPATIL.NS','KOTAKBANK.NS','KWALITY.NS','L&TFH.NS','LTTS.NS','LICHSGFIN.NS','LAXMIMACH.NS','LAKSHVILAS.NS','LTI.NS','LT.NS','LAURUSLABS.NS','LINDEINDIA.NS','LUPIN.NS','MMTC.NS','MOIL.NS','MRF.NS','MAGMA.NS','MGL.NS','MTNL.NS','M&MFIN.NS','M&M.NS','MAHINDCIE.NS','MHRIL.NS','MANAPPURAM.NS','MRPL.NS','MANPASAND.NS','MARICO.NS','MARKSANS.NS','MARUTI.NS','MFSL.NS','MAXINDIA.NS','MCLEODRUSS.NS','MERCK.NS','MINDTREE.NS','MINDACORP.NS','MINDAIND.NS','MONSANTO.NS','MOTHERSUMI.NS','MOTILALOFS.NS','MPHASIS.NS','MUTHOOTFIN.NS','NATCOPHARM.NS','NBCC.NS','NCC.NS','NHPC.NS','NIITTECH.NS','NLCINDIA.NS','NMDC.NS','NTPC.NS','NH.NS','NATIONALUM.NS','NFL.NS','NBVENTURES.NS','NAVINFLUOR.NS','NAVKARCORP.NS','NAVNETEDUL.NS','NETWORK18.NS','NILKAMAL.NS','OBEROIRLTY.NS','ONGC.NS','OIL.NS','OMAXE.NS','OFSS.NS','ORIENTCEM.NS','ORIENTBANK.NS','PCJEWELLER.NS','PIIND.NS','PNBHOUSING.NS','PNCINFRA.NS','PFS.NS','PTC.NS','PVR.NS','PAGEIND.NS','PARAGMILK.NS','PERSISTENT.NS','PETRONET.NS','PFIZER.NS','PHOENIXLTD.NS','PIDILITIND.NS','PEL.NS','POLARIS.NS','PFC.NS','POWERGRID.NS','PRAJIND.NS','PRESTIGE.NS','PRISMCEM.NS','PGHH.NS','PNB.NS','QUESS.NS','RBLBANK.NS','RADICO.NS','RAIN.NS','RAJESHEXPO.NS','RALLIS.NS','RAMCOSYS.NS','RKFORGE.NS','RCF.NS','RTNPOWER.NS','RAYMOND.NS','REDINGTON.NS','RELAXO.NS','RCOM.NS','RELIANCE.NS','RELINFRA.NS','RNAVAL.NS','RPOWER.NS','RELIGARE.NS','REPCOHOME.NS','RUPA.NS','RECLTD.NS','SHK.NS','SJVN.NS','SKFINDIA.NS','SMLISUZU.NS','SREINFRA.NS','SRF.NS','SADBHAV.NS','SANOFI.NS','SCHAEFFLER.NS','SCHNEIDER.NS','SHARDACROP.NS','SFL.NS','SHILPAMED.NS','SCI.NS','SHOPERSTOP.NS','SHREECEM.NS','RENUKA.NS','SHRIRAMCIT.NS','SRTRANSFIN.NS','SIEMENS.NS','SNOWMAN.NS','SOBHA.NS','SOLARINDS.NS','SOMANYCERA.NS','SONATSOFTW.NS','SOUTHBANK.NS','STARCEMENT.NS','SBIN.NS','SAIL.NS','STRTECH.NS','STAR.NS','SUDARSCHEM.NS','SPARC.NS','SUNPHARMA.NS','SUNTV.NS','SUNDRMFAST.NS','SUNTECK.NS','SUPRAJIT.NS','SUPREMEIND.NS','SUPPETRO.NS','SUVEN.NS','SUZLON.NS','SWANENERGY.NS','SYMPHONY.NS','SYNDIBANK.NS','SYNGENE.NS','TTKPRESTIG.NS','TVTODAY.NS','TV18BRDCST.NS','TVSMOTOR.NS','TVSSRICHAK.NS','TAKE.NS','TNPL.NS','TATACHEM.NS','TATACOFFEE.NS','TATACOMM.NS','TCS.NS','TATAELXSI.NS','TATAGLOBAL.NS','TATAINVEST.NS','TATAMTRDVR.NS','TATAMOTORS.NS','TATAPOWER.NS','TATASPONGE.NS','TATASTEEL.NS','TECHM.NS','TECHNO.NS','TEXRAIL.NS','RAMCOCEM.NS','THERMAX.NS','THOMASCOOK.NS','THYROCARE.NS','TIMETECHNO.NS','TIMKEN.NS','TITAN.NS','TORNTPHARM.NS','TORNTPOWER.NS','TRENT.NS','TRIDENT.NS','UCOBANK.NS','UFLEX.NS','UPL.NS','UJJIVAN.NS','ULTRACEMCO.NS','UNICHEMLAB.NS','UNIONBANK.NS','UNITECH.NS','UNITEDBNK.NS','UBL.NS','VGUARD.NS','VIPIND.NS','VRLLOG.NS','WABAG.NS','VAKRANGEE.NS','VTL.NS','VBL.NS','VEDL.NS','VESUVIUS.NS','VIDEOIND.NS','VIJAYABANK.NS','VINATIORGA.NS','VOLTAS.NS','WABCOINDIA.NS','WELCORP.NS','WELSPUNIND.NS','WHIRLPOOL.NS','WIPRO.NS','WOCKPHARMA.NS','YESBANK.NS','ZEEL.NS','ZEELEARN.NS','ZENSARTECH.NS','ECLERX.NS','ADANIPORTS.NS','ZEEL.NS'] "
   ]
  },
  {
   "cell_type": "code",
   "execution_count": 8,
   "metadata": {},
   "outputs": [],
   "source": [
    "stocks = pd.DataFrame()"
   ]
  },
  {
   "cell_type": "code",
   "execution_count": 9,
   "metadata": {},
   "outputs": [
    {
     "name": "stderr",
     "output_type": "stream",
     "text": [
      "/home/rushim245/DeepLearning/indicators.py:66: RuntimeWarning: invalid value encountered in true_divide\n",
      "  money_flow_mul = ((close - low) - (high - close)) / (high -low)\n"
     ]
    },
    {
     "name": "stdout",
     "output_type": "stream",
     "text": [
      "3MINDIA.NS\n",
      "8KMILES.NS\n",
      "ABB.NS\n",
      "ACC.NS\n",
      "AIAENG.NS\n",
      "APLAPOLLO.NS\n",
      "AUBANK.NS\n"
     ]
    },
    {
     "name": "stderr",
     "output_type": "stream",
     "text": [
      "/home/rushim245/DeepLearning/indicators.py:66: RuntimeWarning: divide by zero encountered in true_divide\n",
      "  money_flow_mul = ((close - low) - (high - close)) / (high -low)\n"
     ]
    },
    {
     "name": "stdout",
     "output_type": "stream",
     "text": [
      "AARTIIND.NS\n",
      "ABAN.NS\n",
      "ADANIENT.NS\n",
      "ADANIPORTS.NS\n",
      "ADANIPOWER.NS\n",
      "ADANITRANS.NS\n",
      "ABFRL.NS\n",
      "ADVENZYMES.NS\n",
      "AEGISCHEM.NS\n",
      "AHLUCONT.NS\n",
      "AJANTPHARM.NS\n",
      "AKZOINDIA.NS\n",
      "APLLTD.NS\n",
      "ALKEM.NS\n",
      "ALBK.NS\n",
      "ALLCARGO.NS\n",
      "AMARAJABAT.NS\n",
      "AMBUJACEM.NS\n",
      "ANDHRABANK.NS\n",
      "APARINDS.NS\n",
      "APOLLOHOSP.NS\n",
      "APOLLOTYRE.NS\n",
      "ARVIND.NS\n",
      "ASHOKLEY.NS\n",
      "ASHOKA.NS\n",
      "ASIANPAINT.NS\n",
      "ASTRAZEN.NS\n",
      "ASTRAL.NS\n",
      "ATUL.NS\n",
      "AUROPHARMA.NS\n",
      "AVANTIFEED.NS\n",
      "DMART.NS\n",
      "AXISBANK.NS\n",
      "BASF.NS\n",
      "BEML.NS\n",
      "BFUTILITIE.NS\n",
      "BGRENERGY.NS\n",
      "BSE.NS\n",
      "BAJAJCORP.NS\n",
      "BAJAJELEC.NS\n",
      "BAJFINANCE.NS\n",
      "BAJAJFINSV.NS\n",
      "BAJAJHIND.NS\n",
      "BAJAJHLDNG.NS\n",
      "BALKRISIND.NS\n",
      "BALLARPUR.NS\n",
      "BALMLAWRIE.NS\n",
      "BALRAMCHIN.NS\n",
      "BANKBARODA.NS\n",
      "BANKINDIA.NS\n",
      "BATAINDIA.NS\n",
      "BERGEPAINT.NS\n",
      "BEL.NS\n",
      "BHARATFIN.NS\n",
      "BHARATFORG.NS\n",
      "BHEL.NS\n",
      "BPCL.NS\n",
      "BHARTIARTL.NS\n",
      "INFRATEL.NS\n",
      "BHUSANSTL.NS\n",
      "BIOCON.NS\n",
      "BIRLACORPN.NS\n",
      "BLISSGVS.NS\n",
      "BLUEDART.NS\n",
      "BLUESTARCO.NS\n",
      "BBTC.NS\n",
      "BOMDYEING.NS\n",
      "BRFL.NS\n",
      "BOSCHLTD.NS\n",
      "BRIGADE.NS\n",
      "BRITANNIA.NS\n",
      "CARERATING.NS\n",
      "CCL.NS\n",
      "CESC.NS\n",
      "CGPOWER.NS\n",
      "CRISIL.NS\n",
      "CADILAHC.NS\n",
      "CANFINHOME.NS\n",
      "CANBK.NS\n",
      "CAPF.NS\n",
      "CAPLIPOINT.NS\n",
      "CARBORUNIV.NS\n",
      "CASTROLIND.NS\n",
      "CEATLTD.NS\n",
      "CENTRALBK.NS\n",
      "CENTURYPLY.NS\n",
      "CENTURYTEX.NS\n",
      "CERA.NS\n",
      "CHAMBLFERT.NS\n",
      "CHENNPETRO.NS\n",
      "CHOLAFIN.NS\n",
      "CIPLA.NS\n",
      "CUB.NS\n"
     ]
    }
   ],
   "source": [
    "for stock_sym in nifty_all[:100]:\n",
    "    stock_data = get_datadf(stock_sym)\n",
    "    stock_data = process_data(stock_data)\n",
    "    stock_data = get_indicators(stock_data)\n",
    "    \n",
    "    print(stock_sym)\n",
    "    stocks = stocks.append(stock_data)"
   ]
  },
  {
   "cell_type": "code",
   "execution_count": 11,
   "metadata": {},
   "outputs": [
    {
     "data": {
      "text/html": [
       "<div>\n",
       "<style>\n",
       "    .dataframe thead tr:only-child th {\n",
       "        text-align: right;\n",
       "    }\n",
       "\n",
       "    .dataframe thead th {\n",
       "        text-align: left;\n",
       "    }\n",
       "\n",
       "    .dataframe tbody tr th {\n",
       "        vertical-align: top;\n",
       "    }\n",
       "</style>\n",
       "<table border=\"1\" class=\"dataframe\">\n",
       "  <thead>\n",
       "    <tr style=\"text-align: right;\">\n",
       "      <th></th>\n",
       "      <th>adx</th>\n",
       "      <th>aroon_osc</th>\n",
       "      <th>bband</th>\n",
       "      <th>close</th>\n",
       "      <th>di_min</th>\n",
       "      <th>di_plus</th>\n",
       "      <th>high</th>\n",
       "      <th>kvi</th>\n",
       "      <th>low</th>\n",
       "      <th>macd</th>\n",
       "      <th>macd_hist</th>\n",
       "      <th>macd_signal</th>\n",
       "      <th>open</th>\n",
       "      <th>rsi</th>\n",
       "      <th>std_down</th>\n",
       "      <th>std_up</th>\n",
       "      <th>stoch_d</th>\n",
       "      <th>stoch_k</th>\n",
       "      <th>target</th>\n",
       "      <th>volume</th>\n",
       "    </tr>\n",
       "  </thead>\n",
       "  <tbody>\n",
       "    <tr>\n",
       "      <th>2005-01-03 03:45:00</th>\n",
       "      <td>0.0</td>\n",
       "      <td>0.0</td>\n",
       "      <td>0.0</td>\n",
       "      <td>581.099976</td>\n",
       "      <td>0.0</td>\n",
       "      <td>0.0</td>\n",
       "      <td>585.000000</td>\n",
       "      <td>NaN</td>\n",
       "      <td>580.000000</td>\n",
       "      <td>0.0</td>\n",
       "      <td>0.0</td>\n",
       "      <td>0.0</td>\n",
       "      <td>584.000000</td>\n",
       "      <td>0.0</td>\n",
       "      <td>0.0</td>\n",
       "      <td>0.0</td>\n",
       "      <td>0.0</td>\n",
       "      <td>0.0</td>\n",
       "      <td>0.0</td>\n",
       "      <td>1387.0</td>\n",
       "    </tr>\n",
       "    <tr>\n",
       "      <th>2005-01-04 03:45:00</th>\n",
       "      <td>0.0</td>\n",
       "      <td>0.0</td>\n",
       "      <td>0.0</td>\n",
       "      <td>570.000000</td>\n",
       "      <td>0.0</td>\n",
       "      <td>0.0</td>\n",
       "      <td>579.950012</td>\n",
       "      <td>NaN</td>\n",
       "      <td>565.549988</td>\n",
       "      <td>0.0</td>\n",
       "      <td>0.0</td>\n",
       "      <td>0.0</td>\n",
       "      <td>566.599976</td>\n",
       "      <td>0.0</td>\n",
       "      <td>0.0</td>\n",
       "      <td>0.0</td>\n",
       "      <td>0.0</td>\n",
       "      <td>0.0</td>\n",
       "      <td>0.0</td>\n",
       "      <td>376.0</td>\n",
       "    </tr>\n",
       "    <tr>\n",
       "      <th>2005-01-05 03:45:00</th>\n",
       "      <td>0.0</td>\n",
       "      <td>0.0</td>\n",
       "      <td>0.0</td>\n",
       "      <td>550.000000</td>\n",
       "      <td>0.0</td>\n",
       "      <td>0.0</td>\n",
       "      <td>560.000000</td>\n",
       "      <td>NaN</td>\n",
       "      <td>550.000000</td>\n",
       "      <td>0.0</td>\n",
       "      <td>0.0</td>\n",
       "      <td>0.0</td>\n",
       "      <td>560.000000</td>\n",
       "      <td>0.0</td>\n",
       "      <td>0.0</td>\n",
       "      <td>0.0</td>\n",
       "      <td>0.0</td>\n",
       "      <td>0.0</td>\n",
       "      <td>0.0</td>\n",
       "      <td>1013.0</td>\n",
       "    </tr>\n",
       "    <tr>\n",
       "      <th>2005-01-06 03:45:00</th>\n",
       "      <td>0.0</td>\n",
       "      <td>0.0</td>\n",
       "      <td>0.0</td>\n",
       "      <td>550.049988</td>\n",
       "      <td>0.0</td>\n",
       "      <td>0.0</td>\n",
       "      <td>560.000000</td>\n",
       "      <td>NaN</td>\n",
       "      <td>540.849976</td>\n",
       "      <td>0.0</td>\n",
       "      <td>0.0</td>\n",
       "      <td>0.0</td>\n",
       "      <td>560.000000</td>\n",
       "      <td>0.0</td>\n",
       "      <td>0.0</td>\n",
       "      <td>0.0</td>\n",
       "      <td>0.0</td>\n",
       "      <td>0.0</td>\n",
       "      <td>0.0</td>\n",
       "      <td>814.0</td>\n",
       "    </tr>\n",
       "    <tr>\n",
       "      <th>2005-01-07 03:45:00</th>\n",
       "      <td>0.0</td>\n",
       "      <td>0.0</td>\n",
       "      <td>0.0</td>\n",
       "      <td>561.000000</td>\n",
       "      <td>0.0</td>\n",
       "      <td>0.0</td>\n",
       "      <td>590.000000</td>\n",
       "      <td>NaN</td>\n",
       "      <td>560.000000</td>\n",
       "      <td>0.0</td>\n",
       "      <td>0.0</td>\n",
       "      <td>0.0</td>\n",
       "      <td>590.000000</td>\n",
       "      <td>0.0</td>\n",
       "      <td>0.0</td>\n",
       "      <td>0.0</td>\n",
       "      <td>0.0</td>\n",
       "      <td>0.0</td>\n",
       "      <td>0.0</td>\n",
       "      <td>313.0</td>\n",
       "    </tr>\n",
       "  </tbody>\n",
       "</table>\n",
       "</div>"
      ],
      "text/plain": [
       "                     adx  aroon_osc  bband       close  di_min  di_plus  \\\n",
       "2005-01-03 03:45:00  0.0        0.0    0.0  581.099976     0.0      0.0   \n",
       "2005-01-04 03:45:00  0.0        0.0    0.0  570.000000     0.0      0.0   \n",
       "2005-01-05 03:45:00  0.0        0.0    0.0  550.000000     0.0      0.0   \n",
       "2005-01-06 03:45:00  0.0        0.0    0.0  550.049988     0.0      0.0   \n",
       "2005-01-07 03:45:00  0.0        0.0    0.0  561.000000     0.0      0.0   \n",
       "\n",
       "                           high  kvi         low  macd  macd_hist  \\\n",
       "2005-01-03 03:45:00  585.000000  NaN  580.000000   0.0        0.0   \n",
       "2005-01-04 03:45:00  579.950012  NaN  565.549988   0.0        0.0   \n",
       "2005-01-05 03:45:00  560.000000  NaN  550.000000   0.0        0.0   \n",
       "2005-01-06 03:45:00  560.000000  NaN  540.849976   0.0        0.0   \n",
       "2005-01-07 03:45:00  590.000000  NaN  560.000000   0.0        0.0   \n",
       "\n",
       "                     macd_signal        open  rsi  std_down  std_up  stoch_d  \\\n",
       "2005-01-03 03:45:00          0.0  584.000000  0.0       0.0     0.0      0.0   \n",
       "2005-01-04 03:45:00          0.0  566.599976  0.0       0.0     0.0      0.0   \n",
       "2005-01-05 03:45:00          0.0  560.000000  0.0       0.0     0.0      0.0   \n",
       "2005-01-06 03:45:00          0.0  560.000000  0.0       0.0     0.0      0.0   \n",
       "2005-01-07 03:45:00          0.0  590.000000  0.0       0.0     0.0      0.0   \n",
       "\n",
       "                     stoch_k  target  volume  \n",
       "2005-01-03 03:45:00      0.0     0.0  1387.0  \n",
       "2005-01-04 03:45:00      0.0     0.0   376.0  \n",
       "2005-01-05 03:45:00      0.0     0.0  1013.0  \n",
       "2005-01-06 03:45:00      0.0     0.0   814.0  \n",
       "2005-01-07 03:45:00      0.0     0.0   313.0  "
      ]
     },
     "execution_count": 11,
     "metadata": {},
     "output_type": "execute_result"
    }
   ],
   "source": [
    "stocks.head()"
   ]
  },
  {
   "cell_type": "code",
   "execution_count": 12,
   "metadata": {},
   "outputs": [],
   "source": [
    "cols = [col for col in stocks.columns if col not in ['kvi','target']]\n",
    "X = stocks.loc[:,cols].values\n",
    "Y = stocks['target'].values"
   ]
  },
  {
   "cell_type": "code",
   "execution_count": 13,
   "metadata": {},
   "outputs": [
    {
     "data": {
      "text/plain": [
       "adx                0\n",
       "aroon_osc          0\n",
       "bband              0\n",
       "close              0\n",
       "di_min             0\n",
       "di_plus            0\n",
       "high               0\n",
       "kvi            13589\n",
       "low                0\n",
       "macd               0\n",
       "macd_hist          0\n",
       "macd_signal        0\n",
       "open               0\n",
       "rsi                0\n",
       "std_down           0\n",
       "std_up             0\n",
       "stoch_d            0\n",
       "stoch_k            0\n",
       "target             0\n",
       "volume             0\n",
       "dtype: int64"
      ]
     },
     "execution_count": 13,
     "metadata": {},
     "output_type": "execute_result"
    }
   ],
   "source": [
    "np.sum(stocks.isnull(), axis=0)"
   ]
  },
  {
   "cell_type": "code",
   "execution_count": 14,
   "metadata": {},
   "outputs": [
    {
     "data": {
      "text/plain": [
       "(261395, 18)"
      ]
     },
     "execution_count": 14,
     "metadata": {},
     "output_type": "execute_result"
    }
   ],
   "source": [
    "X.shape"
   ]
  },
  {
   "cell_type": "code",
   "execution_count": 15,
   "metadata": {},
   "outputs": [],
   "source": [
    "nb_epoch = 10                                                                                                                                                                                                                                                                 \n",
    "batch_size = 100                                                                                                                                                                                                                                                                  \n",
    "learning_rate = 0.01                                                                                                                                                                                                                                                               \n",
    "nb_units = 50                                                                                                                                                                                                                                                                 \n",
    "timeStep = 15"
   ]
  },
  {
   "cell_type": "code",
   "execution_count": 16,
   "metadata": {},
   "outputs": [],
   "source": [
    "from sklearn.preprocessing import StandardScaler\n",
    "stdscl = StandardScaler()"
   ]
  },
  {
   "cell_type": "code",
   "execution_count": 17,
   "metadata": {},
   "outputs": [],
   "source": [
    "X = stdscl.fit_transform(X)\n",
    "Y = stocks.target.values"
   ]
  },
  {
   "cell_type": "code",
   "execution_count": 18,
   "metadata": {},
   "outputs": [],
   "source": [
    "new_X = np.zeros([X.shape[0]-timeStep, timeStep, X.shape[1]])\n",
    "new_Y = np.zeros([X.shape[0] - timeStep])"
   ]
  },
  {
   "cell_type": "code",
   "execution_count": 19,
   "metadata": {},
   "outputs": [],
   "source": [
    "for i in range(0, X.shape[0]-timeStep):\n",
    "    new_X[i] = X[i:i+timeStep,:]\n",
    "    new_Y[i] = Y[i+timeStep-1]"
   ]
  },
  {
   "cell_type": "code",
   "execution_count": 20,
   "metadata": {},
   "outputs": [
    {
     "data": {
      "text/plain": [
       "(261380, 15, 18)"
      ]
     },
     "execution_count": 20,
     "metadata": {},
     "output_type": "execute_result"
    }
   ],
   "source": [
    "new_X.shape"
   ]
  },
  {
   "cell_type": "code",
   "execution_count": 21,
   "metadata": {},
   "outputs": [],
   "source": [
    "from sklearn.model_selection import train_test_split\n",
    "trainX, testX, trainY, testY = train_test_split(new_X,new_Y, test_size=0.2)"
   ]
  },
  {
   "cell_type": "code",
   "execution_count": 22,
   "metadata": {},
   "outputs": [
    {
     "data": {
      "text/plain": [
       "(209104, 15, 18)"
      ]
     },
     "execution_count": 22,
     "metadata": {},
     "output_type": "execute_result"
    }
   ],
   "source": [
    "trainX.shape"
   ]
  },
  {
   "cell_type": "code",
   "execution_count": 23,
   "metadata": {},
   "outputs": [
    {
     "name": "stderr",
     "output_type": "stream",
     "text": [
      "/home/rushim245/anaconda2/envs/DeepLearning/lib/python3.6/site-packages/ipykernel_launcher.py:2: UserWarning: The `input_dim` and `input_length` arguments in recurrent layers are deprecated. Use `input_shape` instead.\n",
      "  \n",
      "/home/rushim245/anaconda2/envs/DeepLearning/lib/python3.6/site-packages/ipykernel_launcher.py:2: UserWarning: Update your `LSTM` call to the Keras 2 API: `LSTM(return_sequences=False, kernel_initializer=<keras.ini..., kernel_regularizer=<keras.reg..., input_shape=(None, 18), units=50)`\n",
      "  \n"
     ]
    }
   ],
   "source": [
    "model = Sequential()                                                                                                                                                                                                                                                               \n",
    "model.add(LSTM(input_dim = X.shape[1],output_dim = nb_units,return_sequences = False,  kernel_initializer=glorot_normal(seed=22), kernel_regularizer=regularizers.l2(0.001))) # One LSTM layer with 50 units                                                                                                                                                               \n",
    "model.add(Activation(\"relu\"))     \n",
    "\n",
    "model.add(Dense(50, activation='relu',  kernel_initializer=glorot_normal(seed=22), kernel_regularizer=regularizers.l2(0.001)))\n",
    "model.add(Dense(1, activation='sigmoid')) #A dense layer which is the final layer                                                                                                                                                                                                                         "
   ]
  },
  {
   "cell_type": "code",
   "execution_count": 24,
   "metadata": {},
   "outputs": [
    {
     "name": "stdout",
     "output_type": "stream",
     "text": [
      "Epoch 1/10\n",
      "78s - loss: 0.2093 - acc: 0.9247\n",
      "Epoch 2/10\n",
      "77s - loss: 0.1687 - acc: 0.9374\n",
      "Epoch 3/10\n",
      "77s - loss: 0.1635 - acc: 0.9390\n",
      "Epoch 4/10\n",
      "77s - loss: 0.1760 - acc: 0.9388\n",
      "Epoch 5/10\n",
      "77s - loss: 0.1641 - acc: 0.9395\n",
      "Epoch 6/10\n",
      "77s - loss: 0.1660 - acc: 0.9403\n",
      "Epoch 7/10\n",
      "77s - loss: 0.1602 - acc: 0.9403\n",
      "Epoch 8/10\n",
      "77s - loss: 0.1553 - acc: 0.9412\n",
      "Epoch 9/10\n",
      "78s - loss: 0.1547 - acc: 0.9424\n",
      "Epoch 10/10\n",
      "77s - loss: 0.1497 - acc: 0.9426\n"
     ]
    },
    {
     "data": {
      "text/plain": [
       "<keras.callbacks.History at 0x7f7e37bd5ba8>"
      ]
     },
     "execution_count": 24,
     "metadata": {},
     "output_type": "execute_result"
    }
   ],
   "source": [
    "KerasOptimizer = keras.optimizers.Adam(lr=learning_rate, epsilon=1e-08, decay=0.0)                                                                                                                                                                                     \n",
    "model.compile(loss=\"binary_crossentropy\", optimizer=KerasOptimizer, metrics=['accuracy'])                                                                                                                                                                                                                                \n",
    "model.fit(trainX,trainY,epochs = nb_epoch,batch_size = batch_size, verbose=2)                                                                                                                                                                                                                         \n"
   ]
  },
  {
   "cell_type": "code",
   "execution_count": 25,
   "metadata": {},
   "outputs": [
    {
     "data": {
      "text/html": [
       "<div>\n",
       "<style>\n",
       "    .dataframe thead tr:only-child th {\n",
       "        text-align: right;\n",
       "    }\n",
       "\n",
       "    .dataframe thead th {\n",
       "        text-align: left;\n",
       "    }\n",
       "\n",
       "    .dataframe tbody tr th {\n",
       "        vertical-align: top;\n",
       "    }\n",
       "</style>\n",
       "<table border=\"1\" class=\"dataframe\">\n",
       "  <thead>\n",
       "    <tr style=\"text-align: right;\">\n",
       "      <th>col_0</th>\n",
       "      <th>0.0</th>\n",
       "      <th>1.0</th>\n",
       "    </tr>\n",
       "    <tr>\n",
       "      <th>row_0</th>\n",
       "      <th></th>\n",
       "      <th></th>\n",
       "    </tr>\n",
       "  </thead>\n",
       "  <tbody>\n",
       "    <tr>\n",
       "      <th>0</th>\n",
       "      <td>168326</td>\n",
       "      <td>7159</td>\n",
       "    </tr>\n",
       "    <tr>\n",
       "      <th>1</th>\n",
       "      <td>4697</td>\n",
       "      <td>28922</td>\n",
       "    </tr>\n",
       "  </tbody>\n",
       "</table>\n",
       "</div>"
      ],
      "text/plain": [
       "col_0     0.0    1.0\n",
       "row_0               \n",
       "0      168326   7159\n",
       "1        4697  28922"
      ]
     },
     "execution_count": 25,
     "metadata": {},
     "output_type": "execute_result"
    }
   ],
   "source": [
    "prediction = model.predict(trainX)\n",
    "pred = np.where(prediction > 0.5, 1,0)\n",
    "pd.crosstab(pred.reshape(-1), trainY)"
   ]
  },
  {
   "cell_type": "code",
   "execution_count": 26,
   "metadata": {},
   "outputs": [],
   "source": [
    "from sklearn.metrics import precision_recall_fscore_support"
   ]
  },
  {
   "cell_type": "code",
   "execution_count": 27,
   "metadata": {},
   "outputs": [
    {
     "data": {
      "text/plain": [
       "(array([ 0.95920449,  0.86028734]),\n",
       " array([ 0.97285332,  0.80158532]),\n",
       " array([ 0.96598069,  0.82989957]),\n",
       " array([173023,  36081]))"
      ]
     },
     "execution_count": 27,
     "metadata": {},
     "output_type": "execute_result"
    }
   ],
   "source": [
    "precision_recall_fscore_support(trainY,pred.reshape(-1) )"
   ]
  },
  {
   "cell_type": "code",
   "execution_count": 29,
   "metadata": {},
   "outputs": [
    {
     "data": {
      "text/html": [
       "<div>\n",
       "<style>\n",
       "    .dataframe thead tr:only-child th {\n",
       "        text-align: right;\n",
       "    }\n",
       "\n",
       "    .dataframe thead th {\n",
       "        text-align: left;\n",
       "    }\n",
       "\n",
       "    .dataframe tbody tr th {\n",
       "        vertical-align: top;\n",
       "    }\n",
       "</style>\n",
       "<table border=\"1\" class=\"dataframe\">\n",
       "  <thead>\n",
       "    <tr style=\"text-align: right;\">\n",
       "      <th>col_0</th>\n",
       "      <th>0.0</th>\n",
       "      <th>1.0</th>\n",
       "    </tr>\n",
       "    <tr>\n",
       "      <th>row_0</th>\n",
       "      <th></th>\n",
       "      <th></th>\n",
       "    </tr>\n",
       "  </thead>\n",
       "  <tbody>\n",
       "    <tr>\n",
       "      <th>0</th>\n",
       "      <td>42064</td>\n",
       "      <td>1798</td>\n",
       "    </tr>\n",
       "    <tr>\n",
       "      <th>1</th>\n",
       "      <td>1233</td>\n",
       "      <td>7181</td>\n",
       "    </tr>\n",
       "  </tbody>\n",
       "</table>\n",
       "</div>"
      ],
      "text/plain": [
       "col_0    0.0   1.0\n",
       "row_0             \n",
       "0      42064  1798\n",
       "1       1233  7181"
      ]
     },
     "execution_count": 29,
     "metadata": {},
     "output_type": "execute_result"
    }
   ],
   "source": [
    "prediction = model.predict(testX)\n",
    "pred = np.where(prediction > 0.5, 1,0)\n",
    "pd.crosstab(pred.reshape(-1), testY)"
   ]
  },
  {
   "cell_type": "code",
   "execution_count": 30,
   "metadata": {},
   "outputs": [
    {
     "data": {
      "text/plain": [
       "(array([ 0.9590078 ,  0.85345852]),\n",
       " array([ 0.97152228,  0.79975498]),\n",
       " array([ 0.96522447,  0.82573449]),\n",
       " array([43297,  8979]))"
      ]
     },
     "execution_count": 30,
     "metadata": {},
     "output_type": "execute_result"
    }
   ],
   "source": [
    "precision_recall_fscore_support(testY,pred.reshape(-1) )"
   ]
  },
  {
   "cell_type": "code",
   "execution_count": null,
   "metadata": {},
   "outputs": [],
   "source": []
  }
 ],
 "metadata": {
  "kernelspec": {
   "display_name": "Python 3",
   "language": "python",
   "name": "python3"
  },
  "language_info": {
   "codemirror_mode": {
    "name": "ipython",
    "version": 3
   },
   "file_extension": ".py",
   "mimetype": "text/x-python",
   "name": "python",
   "nbconvert_exporter": "python",
   "pygments_lexer": "ipython3",
   "version": "3.6.3"
  }
 },
 "nbformat": 4,
 "nbformat_minor": 2
}
